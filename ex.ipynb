{
 "cells": [
  {
   "cell_type": "code",
   "execution_count": 1,
   "metadata": {},
   "outputs": [
    {
     "name": "stdout",
     "output_type": "stream",
     "text": [
      "[47.47 55.35 35.68 ... 34.23 17.17 11.09]\n"
     ]
    }
   ],
   "source": [
    "import numpy as np\n",
    "logical_hub_point = np.load('./aihub_point/logical.npy')\n",
    "print(logical_hub_point)"
   ]
  },
  {
   "cell_type": "code",
   "execution_count": 2,
   "metadata": {},
   "outputs": [
    {
     "data": {
      "text/plain": [
       "13755"
      ]
     },
     "execution_count": 2,
     "metadata": {},
     "output_type": "execute_result"
    }
   ],
   "source": [
    "len(logical_hub_point)"
   ]
  },
  {
   "cell_type": "code",
   "execution_count": 8,
   "metadata": {},
   "outputs": [
    {
     "name": "stderr",
     "output_type": "stream",
     "text": [
      "findfont: Font family 'Gothic' not found.\n",
      "findfont: Font family 'Gothic' not found.\n",
      "/tmp/ipykernel_3288/1983574870.py:13: UserWarning: Glyph 49444 (\\N{HANGUL SYLLABLE SEOL}) missing from current font.\n",
      "  plt.savefig('static/images/persuasive.png')\n",
      "/tmp/ipykernel_3288/1983574870.py:13: UserWarning: Glyph 46301 (\\N{HANGUL SYLLABLE DEUG}) missing from current font.\n",
      "  plt.savefig('static/images/persuasive.png')\n",
      "/tmp/ipykernel_3288/1983574870.py:13: UserWarning: Glyph 47141 (\\N{HANGUL SYLLABLE RYEOG}) missing from current font.\n",
      "  plt.savefig('static/images/persuasive.png')\n",
      "/tmp/ipykernel_3288/1983574870.py:13: UserWarning: Glyph 51216 (\\N{HANGUL SYLLABLE JEOM}) missing from current font.\n",
      "  plt.savefig('static/images/persuasive.png')\n",
      "/tmp/ipykernel_3288/1983574870.py:13: UserWarning: Glyph 49688 (\\N{HANGUL SYLLABLE SU}) missing from current font.\n",
      "  plt.savefig('static/images/persuasive.png')\n",
      "findfont: Font family 'Gothic' not found.\n",
      "/tmp/ipykernel_3288/1983574870.py:13: UserWarning: Glyph 54217 (\\N{HANGUL SYLLABLE PYEONG}) missing from current font.\n",
      "  plt.savefig('static/images/persuasive.png')\n",
      "/tmp/ipykernel_3288/1983574870.py:13: UserWarning: Glyph 44512 (\\N{HANGUL SYLLABLE GYUN}) missing from current font.\n",
      "  plt.savefig('static/images/persuasive.png')\n",
      "findfont: Font family 'Gothic' not found.\n",
      "findfont: Font family 'Gothic' not found.\n",
      "findfont: Font family 'Gothic' not found.\n",
      "findfont: Font family 'Gothic' not found.\n",
      "findfont: Font family 'Gothic' not found.\n",
      "findfont: Font family 'Gothic' not found.\n",
      "findfont: Font family 'Gothic' not found.\n",
      "findfont: Font family 'Gothic' not found.\n",
      "findfont: Font family 'Gothic' not found.\n",
      "findfont: Font family 'Gothic' not found.\n",
      "findfont: Font family 'Gothic' not found.\n",
      "findfont: Font family 'Gothic' not found.\n",
      "findfont: Font family 'Gothic' not found.\n",
      "findfont: Font family 'Gothic' not found.\n",
      "findfont: Font family 'Gothic' not found.\n",
      "findfont: Font family 'Gothic' not found.\n",
      "findfont: Font family 'Gothic' not found.\n",
      "findfont: Font family 'Gothic' not found.\n",
      "findfont: Font family 'Gothic' not found.\n",
      "findfont: Font family 'Gothic' not found.\n",
      "findfont: Font family 'Gothic' not found.\n",
      "findfont: Font family 'Gothic' not found.\n",
      "findfont: Font family 'Gothic' not found.\n",
      "findfont: Font family 'Gothic' not found.\n",
      "findfont: Font family 'Gothic' not found.\n",
      "findfont: Font family 'Gothic' not found.\n",
      "findfont: Font family 'Gothic' not found.\n",
      "findfont: Font family 'Gothic' not found.\n",
      "findfont: Font family 'Gothic' not found.\n",
      "findfont: Font family 'Gothic' not found.\n",
      "findfont: Font family 'Gothic' not found.\n",
      "findfont: Font family 'Gothic' not found.\n",
      "findfont: Font family 'Gothic' not found.\n",
      "findfont: Font family 'Gothic' not found.\n",
      "findfont: Font family 'Gothic' not found.\n",
      "findfont: Font family 'Gothic' not found.\n",
      "findfont: Font family 'Gothic' not found.\n",
      "findfont: Font family 'Gothic' not found.\n",
      "findfont: Font family 'Gothic' not found.\n"
     ]
    },
    {
     "data": {
      "image/png": "[encoded data removed]",
      "text/plain": [
       "<Figure size 640x480 with 1 Axes>"
      ]
     },
     "metadata": {},
     "output_type": "display_data"
    }
   ],
   "source": [
    "\n",
    "from matplotlib import pyplot as plt\n",
    "import numpy as np\n",
    "\n",
    "persuasive_point =3\n",
    "persuasive_mean = 5.4444\n",
    "\n",
    "x = np.arange(2)\n",
    "points3 = [persuasive_point, round(float(persuasive_mean),2)]\n",
    "names = ['설득력 점수', '설득력 평균']\n",
    "plt.xticks(x,names)\n",
    "plt.bar(x, points3)\n",
    "plt.savefig('static/images/persuasive.png')"
   ]
  },
  {
   "cell_type": "code",
   "execution_count": null,
   "metadata": {},
   "outputs": [],
   "source": []
  }
 ],
 "metadata": {
  "kernelspec": {
   "display_name": "flask",
   "language": "python",
   "name": "python3"
  },
  "language_info": {
   "codemirror_mode": {
    "name": "ipython",
    "version": 3
   },
   "file_extension": ".py",
   "mimetype": "text/x-python",
   "name": "python",
   "nbconvert_exporter": "python",
   "pygments_lexer": "ipython3",
   "version": "3.8.16"
  },
  "orig_nbformat": 4,
  "vscode": {
   "interpreter": {
    "hash": "cb34f9f099470a0e0f8e9a3dda45be28d81e0007bd717a22246c6ae05257cf62"
   }
  }
 },
 "nbformat": 4,
 "nbformat_minor": 2
}
